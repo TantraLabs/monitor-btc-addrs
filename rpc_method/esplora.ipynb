{
 "cells": [
  {
   "cell_type": "code",
   "execution_count": 12,
   "metadata": {},
   "outputs": [
    {
     "data": {
      "text/html": [
       "<div>\n",
       "<style scoped>\n",
       "    .dataframe tbody tr th:only-of-type {\n",
       "        vertical-align: middle;\n",
       "    }\n",
       "\n",
       "    .dataframe tbody tr th {\n",
       "        vertical-align: top;\n",
       "    }\n",
       "\n",
       "    .dataframe thead th {\n",
       "        text-align: right;\n",
       "    }\n",
       "</style>\n",
       "<table border=\"1\" class=\"dataframe\">\n",
       "  <thead>\n",
       "    <tr style=\"text-align: right;\">\n",
       "      <th></th>\n",
       "      <th>0</th>\n",
       "    </tr>\n",
       "  </thead>\n",
       "  <tbody>\n",
       "    <tr>\n",
       "      <th>0</th>\n",
       "      <td>3DKcHmHdqcUDAX2Yi2sjX9Hauam25Nk5Ja</td>\n",
       "    </tr>\n",
       "    <tr>\n",
       "      <th>1</th>\n",
       "      <td>3JNZyt1ocETf9oHscQfx17XNqY3odHAjaR</td>\n",
       "    </tr>\n",
       "    <tr>\n",
       "      <th>2</th>\n",
       "      <td>bc1q0xur68lq587lw8aqf96f4qqcmum6sqcpyyy94a</td>\n",
       "    </tr>\n",
       "    <tr>\n",
       "      <th>3</th>\n",
       "      <td>3JjtnDXknvY7HWidn5wt5BdZsRdXCGEt8y</td>\n",
       "    </tr>\n",
       "    <tr>\n",
       "      <th>4</th>\n",
       "      <td>3J9rQSzvNThPdN5FDbJAD3N8Wdce1KF6Ms</td>\n",
       "    </tr>\n",
       "  </tbody>\n",
       "</table>\n",
       "</div>"
      ],
      "text/plain": [
       "                                            0\n",
       "0          3DKcHmHdqcUDAX2Yi2sjX9Hauam25Nk5Ja\n",
       "1          3JNZyt1ocETf9oHscQfx17XNqY3odHAjaR\n",
       "2  bc1q0xur68lq587lw8aqf96f4qqcmum6sqcpyyy94a\n",
       "3          3JjtnDXknvY7HWidn5wt5BdZsRdXCGEt8y\n",
       "4          3J9rQSzvNThPdN5FDbJAD3N8Wdce1KF6Ms"
      ]
     },
     "execution_count": 12,
     "metadata": {},
     "output_type": "execute_result"
    }
   ],
   "source": [
    "import pandas as pd\n",
    "\n",
    "input_df = pd.read_csv('addresses.csv', index_col=0)\n",
    "input_df.head()"
   ]
  },
  {
   "cell_type": "code",
   "execution_count": 14,
   "metadata": {},
   "outputs": [],
   "source": [
    "btc_hashes = input_df['0'].values\n",
    "URL = \"https://blockstream.info/api/address/{}/txs/chain\"\n",
    "\n",
    "for btc_hash in btc_hashes:\n",
    "    "
   ]
  },
  {
   "cell_type": "code",
   "execution_count": null,
   "metadata": {},
   "outputs": [],
   "source": []
  }
 ],
 "metadata": {
  "kernelspec": {
   "display_name": "Python 3",
   "language": "python",
   "name": "python3"
  },
  "language_info": {
   "codemirror_mode": {
    "name": "ipython",
    "version": 3
   },
   "file_extension": ".py",
   "mimetype": "text/x-python",
   "name": "python",
   "nbconvert_exporter": "python",
   "pygments_lexer": "ipython3",
   "version": "3.7.4"
  }
 },
 "nbformat": 4,
 "nbformat_minor": 2
}
